{
 "cells": [
  {
   "cell_type": "code",
   "execution_count": 1,
   "metadata": {
    "collapsed": true
   },
   "outputs": [],
   "source": [
    "import os.path as op"
   ]
  },
  {
   "cell_type": "code",
   "execution_count": 2,
   "metadata": {
    "collapsed": false
   },
   "outputs": [
    {
     "name": "stderr",
     "output_type": "stream",
     "text": [
      "/home/jyeatman/anaconda2/lib/python2.7/site-packages/skimage/filter/__init__.py:6: skimage_deprecation: The `skimage.filter` module has been renamed to `skimage.filters`.  This placeholder module will be removed in v0.13.\n",
      "  warn(skimage_deprecation('The `skimage.filter` module has been renamed '\n"
     ]
    }
   ],
   "source": [
    "from AFQ import api\n",
    "from AFQ import data"
   ]
  },
  {
   "cell_type": "code",
   "execution_count": 5,
   "metadata": {
    "collapsed": false
   },
   "outputs": [
    {
     "data": {
      "text/plain": [
       "{'/home/jyeatman/AFQ_data/HCP/derivatives/sub-992774/sub-992774_aparc+aseg.nii.gz': 'HCP/992774/T1w/aparc+aseg.nii.gz',\n",
       " '/home/jyeatman/AFQ_data/HCP/derivatives/sub-994273/sub-994273_aparc+aseg.nii.gz': 'HCP/994273/T1w/aparc+aseg.nii.gz',\n",
       " '/home/jyeatman/AFQ_data/HCP/sub-992774/anat/sub-992774_T1w.nii.gz': 'HCP/992774/T1w/T1w_acpc_dc.nii.gz',\n",
       " '/home/jyeatman/AFQ_data/HCP/sub-992774/dwi/sub-992774_dwi.bval': 'HCP/992774/T1w/Diffusion/bvals',\n",
       " '/home/jyeatman/AFQ_data/HCP/sub-992774/dwi/sub-992774_dwi.bvec': 'HCP/992774/T1w/Diffusion/bvecs',\n",
       " '/home/jyeatman/AFQ_data/HCP/sub-992774/dwi/sub-992774_dwi.nii.gz': 'HCP/992774/T1w/Diffusion/data.nii.gz',\n",
       " '/home/jyeatman/AFQ_data/HCP/sub-994273/anat/sub-994273_T1w.nii.gz': 'HCP/994273/T1w/T1w_acpc_dc.nii.gz',\n",
       " '/home/jyeatman/AFQ_data/HCP/sub-994273/dwi/sub-994273_dwi.bval': 'HCP/994273/T1w/Diffusion/bvals',\n",
       " '/home/jyeatman/AFQ_data/HCP/sub-994273/dwi/sub-994273_dwi.bvec': 'HCP/994273/T1w/Diffusion/bvecs',\n",
       " '/home/jyeatman/AFQ_data/HCP/sub-994273/dwi/sub-994273_dwi.nii.gz': 'HCP/994273/T1w/Diffusion/data.nii.gz'}"
      ]
     },
     "execution_count": 5,
     "metadata": {},
     "output_type": "execute_result"
    }
   ],
   "source": [
    "data.fetch_hcp(['992774', '994273'])"
   ]
  },
  {
   "cell_type": "code",
   "execution_count": 6,
   "metadata": {
    "collapsed": false
   },
   "outputs": [],
   "source": [
    "base_dir = op.join(op.expanduser('~'), 'AFQ_data', 'HCP')"
   ]
  },
  {
   "cell_type": "code",
   "execution_count": 8,
   "metadata": {
    "collapsed": false
   },
   "outputs": [
    {
     "ename": "IndexError",
     "evalue": "list index out of range",
     "output_type": "error",
     "traceback": [
      "\u001b[1;31m---------------------------------------------------------------------------\u001b[0m",
      "\u001b[1;31mIndexError\u001b[0m                                Traceback (most recent call last)",
      "\u001b[1;32m<ipython-input-8-541508e4dbf3>\u001b[0m in \u001b[0;36m<module>\u001b[1;34m()\u001b[0m\n\u001b[1;32m----> 1\u001b[1;33m \u001b[0mmyafq\u001b[0m \u001b[1;33m=\u001b[0m \u001b[0mapi\u001b[0m\u001b[1;33m.\u001b[0m\u001b[0mAFQ\u001b[0m\u001b[1;33m(\u001b[0m\u001b[0mpreproc_path\u001b[0m\u001b[1;33m=\u001b[0m\u001b[0mbase_dir\u001b[0m\u001b[1;33m,\u001b[0m \u001b[0msub_prefix\u001b[0m\u001b[1;33m=\u001b[0m\u001b[1;34m''\u001b[0m\u001b[1;33m)\u001b[0m\u001b[1;33m\u001b[0m\u001b[0m\n\u001b[0m",
      "\u001b[1;32m/home/jyeatman/git/pyAFQ/AFQ/api.pyc\u001b[0m in \u001b[0;36m__init__\u001b[1;34m(self, raw_path, preproc_path, sub_prefix, dwi_folder, dwi_file, anat_folder, anat_file)\u001b[0m\n\u001b[0;32m     88\u001b[0m                                                        ('%s/%s/%s.nii.gz' %\n\u001b[0;32m     89\u001b[0m                                                         (sess, dwi_folder,\n\u001b[1;32m---> 90\u001b[1;33m                                                          dwi_file))))[0])\n\u001b[0m\u001b[0;32m     91\u001b[0m \u001b[1;33m\u001b[0m\u001b[0m\n\u001b[0;32m     92\u001b[0m                 bvec_file_list.append(glob.glob(op.join(sub_dir,\n",
      "\u001b[1;31mIndexError\u001b[0m: list index out of range"
     ]
    }
   ],
   "source": [
    "myafq = api.AFQ(preproc_path=base_dir, sub_prefix='')"
   ]
  },
  {
   "cell_type": "code",
   "execution_count": null,
   "metadata": {
    "collapsed": false
   },
   "outputs": [],
   "source": [
    "myafq.data_frame"
   ]
  },
  {
   "cell_type": "code",
   "execution_count": null,
   "metadata": {
    "collapsed": false
   },
   "outputs": [],
   "source": [
    "myafq.brain_extraction()"
   ]
  },
  {
   "cell_type": "code",
   "execution_count": null,
   "metadata": {
    "collapsed": false
   },
   "outputs": [],
   "source": [
    "myafq.data_frame.iloc[0]['gtab']"
   ]
  },
  {
   "cell_type": "code",
   "execution_count": null,
   "metadata": {
    "collapsed": false
   },
   "outputs": [],
   "source": [
    "myafq.data_frame['brain_mask_img']"
   ]
  },
  {
   "cell_type": "code",
   "execution_count": null,
   "metadata": {
    "collapsed": true
   },
   "outputs": [],
   "source": []
  }
 ],
 "metadata": {
  "kernelspec": {
   "display_name": "Python 2",
   "language": "python",
   "name": "python2"
  },
  "language_info": {
   "codemirror_mode": {
    "name": "ipython",
    "version": 2
   },
   "file_extension": ".py",
   "mimetype": "text/x-python",
   "name": "python",
   "nbconvert_exporter": "python",
   "pygments_lexer": "ipython2",
   "version": "2.7.12"
  }
 },
 "nbformat": 4,
 "nbformat_minor": 0
}
